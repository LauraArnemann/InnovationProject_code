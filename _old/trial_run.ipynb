{
 "cells": [
  {
   "cell_type": "code",
   "execution_count": 2,
   "id": "c976fbd6",
   "metadata": {},
   "outputs": [],
   "source": [
    "# Importing relevant packages \n",
    "#!pip3 install python-Levenshtein --user\n",
    "#!pip3 install fuzzywuzzy --user\n",
    "import fuzzywuzzy\n",
    "import pandas as pd\n",
    "from fuzzywuzzy import fuzz\n",
    "from fuzzywuzzy import process"
   ]
  },
  {
   "cell_type": "code",
   "execution_count": 4,
   "id": "3de8378f",
   "metadata": {},
   "outputs": [],
   "source": [
    "df1 = pd.read_stata # Datensätze einlesen\n",
    "df1 = pd.read_csv \n",
    "df1.head() # Die ersten 5 Einträge des Datensatzes anschauen \n",
    "# Sonderzeichen entfernen, alles klein schreiben\n",
    "df1['hqcompany'] = df1['hqcompany'].str.strip().str.lower().str.replace(r'[^\\w\\s]', '', regex=True)"
   ]
  },
  {
   "cell_type": "code",
   "execution_count": null,
   "id": "a149bce7",
   "metadata": {},
   "outputs": [],
   "source": [
    "# Für Unternehmen: Cleaning und Vereinheitlichen von Unternehmenszusätzen wie Corp, Inc \n",
    "\n",
    "abbreviations = {\n",
    "    r'\\bincorporated\\b': 'inc',\n",
    "    r'\\bcorporation\\b': 'corp',\n",
    "    r'\\bltd\\b': 'ltd',\n",
    "    r'\\bcompany\\b': 'co',\n",
    "    r'\\bthe\\b': '',\n",
    "    r'\\b-old\\b': '',\n",
    "    r'\\bsystems\\b': 'sys',\n",
    "    r'\\blaboratories\\b': 'lab',\n",
    "}\n",
    "\n",
    "# Function to standardize company names\n",
    "def standardize_names(name, abbreviations):\n",
    "    for pattern, replacement in abbreviations.items():\n",
    "        name = re.sub(pattern, replacement, name, flags=re.IGNORECASE)\n",
    "    return name\n",
    "\n",
    "# Apply the standardization to the 'company_name' column\n",
    "df1['xxx'] = df1['xxx'].apply(lambda x: standardize_names(x, abbreviations))"
   ]
  },
  {
   "cell_type": "code",
   "execution_count": 7,
   "id": "af46b7e7",
   "metadata": {},
   "outputs": [],
   "source": [
    " df2_subset = df2[df2['xxx'] == 19600]\n",
    "    # Neuer Datensatz nur auf gewünschter geographischer Einheit"
   ]
  },
  {
   "cell_type": "code",
   "execution_count": null,
   "id": "7e7e3835",
   "metadata": {},
   "outputs": [],
   "source": [
    "# Merging data sets \n",
    "matched1 = pd.merge(df1_subset, df2_subset, on=['xxx1', 'xxx2'], how='inner')"
   ]
  },
  {
   "cell_type": "code",
   "execution_count": null,
   "id": "4ce1405a",
   "metadata": {},
   "outputs": [],
   "source": [
    "# Preparation for Fuzzy Matching, throw out all directly merged variables \n",
    "df1_filtered = df1_subset.merge(matched, on=['hqcompany'], how='left', indicator=True)\n",
    "df1_filtered = df1_filtered[df1_filtered['_merge'] == 'left_only'].drop('_merge', axis=1)\n",
    "# You probably need to throw out and rename some variables after the merge \n",
    "df1_filtered = df1_filtered.rename(columns={'dunsnumber_x': 'dunsnumber'})\n",
    "df1_filtered = df1_filtered.rename(columns={'hqtradename_x': 'hqtradename'})\n",
    "df1_filtered = df1_filtered.rename(columns={'hqduns_x': 'hqduns'})"
   ]
  },
  {
   "cell_type": "code",
   "execution_count": null,
   "id": "707bb791",
   "metadata": {},
   "outputs": [],
   "source": [
    "# Function for carrying out the fuzzy match, generates an additional column matched name containing the name from data set 2\n",
    "def match_names(row, df2_filtered, threshold=90):\n",
    "    name = row['hqcompany']\n",
    "    matches = process.extractOne(name, df2_filtered['hqcompany'], scorer=fuzz.token_sort_ratio)\n",
    "    if matches[1] >= threshold:\n",
    "        return matches[0]\n",
    "    return None\n",
    "\n",
    "df1_filtered['matched_name'] = df1_filtered.apply(match_names, axis=1, df2_filtered=df2_filtered)\n",
    "\n"
   ]
  },
  {
   "cell_type": "code",
   "execution_count": null,
   "id": "63da0861",
   "metadata": {},
   "outputs": [],
   "source": [
    "# Matching with the second data set based on the column matched name \n",
    "df1_filtered = df1_filtered.rename(columns={'matched_name': 'hqcompany'}) \n",
    "matched2 = pd.merge(df2_filtered, df1_filtered, on=['hqcompany', 'CZ_depagri_1990'], how='inner')\n",
    "# Export Data Set to Stata data set \n",
    "df1_cleaned.to_stata('H:/InnovationProject/data/temp/matching_NETS/nonmatch_NETS_19600.dta')"
   ]
  }
 ],
 "metadata": {
  "kernelspec": {
   "display_name": "Python 3 (ipykernel)",
   "language": "python",
   "name": "python3"
  },
  "language_info": {
   "codemirror_mode": {
    "name": "ipython",
    "version": 3
   },
   "file_extension": ".py",
   "mimetype": "text/x-python",
   "name": "python",
   "nbconvert_exporter": "python",
   "pygments_lexer": "ipython3",
   "version": "3.9.13"
  }
 },
 "nbformat": 4,
 "nbformat_minor": 5
}
