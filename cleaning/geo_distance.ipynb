{
 "cells": [
  {
   "cell_type": "code",
   "execution_count": 1,
   "metadata": {
    "ExecuteTime": {
     "end_time": "2023-11-08T11:37:53.151671Z",
     "start_time": "2023-11-08T11:37:52.451878Z"
    }
   },
   "outputs": [],
   "source": [
    "import pandas as pd\n",
    "import math\n",
    "import time\n",
    "\n",
    "#todo: replace with you path\n",
    "compustat_dataSet = pd.read_stata('C:/Users/laura/Desktop/InnovationProject/data/geocoding_done/compustat/compustat_geocoded_2.dta')\n",
    "\n",
    "\n",
    "#initialize coord map\n",
    "compustat_coordMap = {}\n",
    "for i in range(-180,180):\n",
    "    compustat_coordMap[i] = {}\n",
    "    for j in range(-90,90):#\n",
    "        #we initialize a list here to collect companies in an area\n",
    "        compustat_coordMap[i][j] = []\n",
    "\n",
    "    \"\"\"\"\n",
    "    One degree of latitude equals approximately 364,000 feet (69 miles).\n",
    "    One-degree of longitude equals 288,200 feet (54.6 miles)\n",
    "    So if we round, the max distance will be probably a big enough radius. We need to keep in\n",
    "    mind what will happen, if some company has two different lats like -9.4999 and -9.5 \n",
    "    (lets catch that later)\n",
    "    \n",
    "    \n",
    "    look for edge cases -> how many?\n",
    "    \"\"\"\n",
    "#fill coord map\n",
    "for i in range(len(compustat_dataSet)):\n",
    "    entry = compustat_dataSet.iloc[i]\n",
    "    lon = round(entry['lon'])\n",
    "    lat = round(entry['lat'])\n",
    "    compustat_coordMap[lon][lat].append(entry)\n",
    "    \n",
    "\n",
    "\n",
    "#compustat_dataSet.describe()\n",
    "#print(coordMapSmall[-97][33])"
   ]
  },
  {
   "cell_type": "code",
   "execution_count": 3,
   "metadata": {
    "ExecuteTime": {
     "end_time": "2023-11-08T11:37:53.420011Z",
     "start_time": "2023-11-08T11:37:53.154720Z"
    }
   },
   "outputs": [],
   "source": [
    "#Now do the same for the NETS dataset\n",
    "NETS_dataSet = pd.read_stata('C:/Users/laura/Desktop/InnovationProject/data//geocoding_done/NETS/NETS_geocoded_cleaned_2.dta')\n",
    "NETS_dataSet.shape\n",
    "NETS_dataSet.head()\n",
    "\n",
    "#initialize coord map\n",
    "NETS_coordMap = {}\n",
    "for i in range(-180,180):\n",
    "    NETS_coordMap[i] = {}\n",
    "    for j in range(-90,90):\n",
    "        #we initialize a list here to collect companies in an area\n",
    "        NETS_coordMap[i][j] = []\n",
    "\n",
    "#fill coord map\n",
    "\n",
    "for i in range(len(NETS_dataSet)):\n",
    "    entry = NETS_dataSet.iloc[i]\n",
    "    lon = round(entry['longNETS'])\n",
    "    lat = round(entry['latNETS'])\n",
    "    NETS_coordMap[lon][lat].append(entry)\n",
    "    \n",
    "#output dataset\n",
    "output_data =  []\n",
    "    \n",
    "\n",
    "#NETS_dataSet.describe()\n",
    "#smallDataSet.describe()\n",
    "#print(NETS_coordMap[-71][42])\n",
    "#print(len(NETS_coordMap[-71][42]))"
   ]
  },
  {
   "cell_type": "code",
   "execution_count": 4,
   "metadata": {
    "ExecuteTime": {
     "end_time": "2023-11-08T11:37:53.423646Z",
     "start_time": "2023-11-08T11:37:53.421382Z"
    }
   },
   "outputs": [],
   "source": [
    "def haversine_distance(lat1, lon1, lat2, lon2):\n",
    "    # Convert latitude and longitude from degrees to radians\n",
    "    lat1, lon1, lat2, lon2 = map(math.radians, [lat1, lon1, lat2, lon2])\n",
    "    \n",
    "    # Haversine formula\n",
    "    dlon = lon2 - lon1\n",
    "    dlat = lat2 - lat1\n",
    "    a = math.sin(dlat / 2) ** 2 + math.cos(lat1) * math.cos(lat2) * math.sin(dlon / 2) ** 2\n",
    "    c = 2 * math.atan2(math.sqrt(a), math.sqrt(1 - a))\n",
    "    \n",
    "    # Radius of the Earth in miles (mean value)\n",
    "    radius_miles = 3959.0\n",
    "    \n",
    "    # Calculate the distance\n",
    "    distance = radius_miles * c\n",
    "    \n",
    "    return distance"
   ]
  },
  {
   "cell_type": "code",
   "execution_count": 5,
   "metadata": {
    "ExecuteTime": {
     "end_time": "2023-11-08T12:00:22.713715Z",
     "start_time": "2023-11-08T12:00:22.698967Z"
    }
   },
   "outputs": [],
   "source": [
    "def match(longitude, latitude):\n",
    "    #match rounded\n",
    "    for entryNETS in NETS_coordMap[longitude][latitude]:\n",
    "        \n",
    "        nets_lon = entryNETS['longNETS']\n",
    "        nets_lat = entryNETS['latNETS']\n",
    "        dist = 2 # Adjust Distance (miles) to lower results\n",
    "        if(haversine_distance(comp_lat, comp_lon, nets_lat, nets_lon) <= dist): \n",
    "            output_data.append([entryComp['gvkey'], entryNETS['hqduns'], comp_lat, comp_lon, nets_lat, nets_lon])\n",
    "            \n",
    "    #match gvk to hqduns\n",
    "    #one gvk to many hqduns\n",
    "    #so there redundant gvk entries\n",
    "    #also add both lat/long \n",
    "    \n",
    "\n",
    "    "
   ]
  },
  {
   "cell_type": "code",
   "execution_count": null,
   "metadata": {
    "ExecuteTime": {
     "end_time": "2023-11-08T11:37:59.347330Z",
     "start_time": "2023-11-08T11:37:59.344665Z"
    }
   },
   "outputs": [],
   "source": [
    "\n",
    "final['similarity_score'] = (\n",
    "    final[['hqcompany_left','hqcompany_right']]\n",
    "    .apply(lambda x: difflib.SequenceMatcher(None, x[0].lower(), x[1].lower()).ratio(), axis=1)\n",
    ")\n",
    "\n",
    "output_df.to_stata('C:/Users/laura/Desktop/InnovationProject/data/geocoding_done/geomatch2.dta') \n",
    "print(output_df.info())\n",
    "print(output_df.head())"
   ]
  },
  {
   "cell_type": "code",
   "execution_count": 6,
   "metadata": {
    "ExecuteTime": {
     "end_time": "2023-11-08T12:04:43.465517Z",
     "start_time": "2023-11-08T12:03:59.188895Z"
    }
   },
   "outputs": [
    {
     "name": "stdout",
     "output_type": "stream",
     "text": [
      " runtime:  298.29191064834595\n",
      "<class 'pandas.core.frame.DataFrame'>\n",
      "RangeIndex: 2790383 entries, 0 to 2790382\n",
      "Data columns (total 6 columns):\n",
      " #   Column   Dtype  \n",
      "---  ------   -----  \n",
      " 0   gvkey    int32  \n",
      " 1   hqduns   int32  \n",
      " 2   latComp  float64\n",
      " 3   lonComp  float64\n",
      " 4   latNETS  float32\n",
      " 5   lonNETS  float32\n",
      "dtypes: float32(2), float64(2), int32(2)\n",
      "memory usage: 85.2 MB\n",
      "None\n",
      "   gvkey   hqduns    latComp    lonComp    latNETS    lonNETS\n",
      "0   1050  2412869  33.007766 -96.828911  33.030899 -96.832298\n",
      "1   1050  2578310  33.007766 -96.828911  33.015800 -96.817001\n",
      "2   1050  2778129  33.007766 -96.828911  32.986099 -96.835899\n",
      "3   1050  3506710  33.007766 -96.828911  33.001701 -96.841904\n",
      "4   1050  3523417  33.007766 -96.828911  32.980801 -96.838303\n"
     ]
    }
   ],
   "source": [
    "start = time.time()\n",
    "for i in range(len(compustat_dataSet)):\n",
    "    entryComp = compustat_dataSet.iloc[i]\n",
    "    comp_lon = entryComp['lon']\n",
    "    comp_lat = entryComp['lat']\n",
    "    rounded_lon = round(comp_lon)\n",
    "    rounded_lat =  round(comp_lat)\n",
    "    \n",
    "    #match rounded\n",
    "    match(rounded_lon, rounded_lat)\n",
    "    \n",
    "    # ~~ compute edge cases ~~   \n",
    "    clo_margin = comp_lon % 1\n",
    "    cla_margin = comp_lat % 1\n",
    "    lon_d = (0.45 <= clo_margin < 0.5) #edge case down rounded\n",
    "    lon_u = (0.5 <= clo_margin <= 0.55) #edge case up rounded\n",
    "    lat_d = (0.45 <= cla_margin < 0.5) #edge case down rounded\n",
    "    lat_u = (0.5 <= cla_margin <= 0.55) #edge case up rounded\n",
    "    \n",
    "    if(lon_d):\n",
    "        match((rounded_lon + 1), rounded_lat) #u,r -> upper hash, rounded hash\n",
    "        if(lat_d):\n",
    "            match((rounded_lon + 1), (rounded_lat + 1)) #u,u\n",
    "    elif(lon_u):\n",
    "        match((rounded_lon - 1), rounded_lat) #l,r -> lower hash, rounded hash\n",
    "        if(lat_u):\n",
    "            match((rounded_lon - 1), (rounded_lat - 1)) #l,l\n",
    "        \n",
    "    if(lat_d):\n",
    "        match(rounded_lon, (rounded_lat + 1)) #r,u\n",
    "        if(lon_u):\n",
    "            match((rounded_lon - 1), (rounded_lat + 1)) #l,u\n",
    "    elif(lat_u):\n",
    "        match(rounded_lon, (rounded_lat - 1)) #r,l\n",
    "        if(lon_d):\n",
    "            match((rounded_lon + 1), (rounded_lat - 1)) #u,l\n",
    "    # ~~ compute edge cases ~~\n",
    "\n",
    "print(\" runtime: \", time.time() - start)\n",
    "\n",
    "# ---- OUTPUT DATA ------\n",
    "output_df = pd.DataFrame(output_data, columns=['gvkey', 'hqduns', 'latComp', 'lonComp', 'latNETS', 'lonNETS'])\n",
    "#todo: replace with you path\n",
    "output_df.to_stata('C:/Users/laura/Desktop/InnovationProject/data/geocoding_done/geomatch2.dta') \n",
    "print(output_df.info())\n",
    "print(output_df.head())"
   ]
  },
  {
   "cell_type": "code",
   "execution_count": null,
   "metadata": {},
   "outputs": [],
   "source": [
    "final = pd.read_stata('C:/Users/laura/Desktop/InnovationProject/data/geocoding_done/geomatch_names.dta',index_col='gvkey')\n",
    "\n",
    "\n",
    "final['similarity_score'] = (\n",
    "    final[['hqcompany_left','hqcompany_right']]\n",
    "    .apply(lambda x: difflib.SequenceMatcher(None, x[0].lower(), x[1].lower()).ratio(), axis=1)\n",
    ")\n"
   ]
  }
 ],
 "metadata": {
  "kernelspec": {
   "display_name": "Python 3",
   "language": "python",
   "name": "python3"
  },
  "language_info": {
   "codemirror_mode": {
    "name": "ipython",
    "version": 3
   },
   "file_extension": ".py",
   "mimetype": "text/x-python",
   "name": "python",
   "nbconvert_exporter": "python",
   "pygments_lexer": "ipython3",
   "version": "3.8.5"
  }
 },
 "nbformat": 4,
 "nbformat_minor": 5
}
