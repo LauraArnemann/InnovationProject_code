{
 "cells": [
  {
   "cell_type": "code",
   "execution_count": 5,
   "metadata": {},
   "outputs": [],
   "source": [
    "import geopandas as gpd\n",
    "import pandas as pd\n",
    "from shapely.geometry import Point"
   ]
  },
  {
   "cell_type": "code",
   "execution_count": 6,
   "metadata": {},
   "outputs": [],
   "source": [
    "counties = gpd.read_file('C:/Users/laura/Desktop/InnovationProject/data/raw/var_CommutingZones/counties/tl_2019_us_county.shp')"
   ]
  },
  {
   "cell_type": "code",
   "execution_count": 7,
   "metadata": {},
   "outputs": [],
   "source": [
    "df = pd.read_stata('C:/Users/laura/Desktop/InnovationProject/data/temp/county_match_prep.dta')\n",
    "geometry = [Point(xy) for xy in zip(df['longitude_inventor'], df['latitude_inventor'])]\n",
    "geo_df = gpd.GeoDataFrame(df, geometry=geometry)"
   ]
  },
  {
   "cell_type": "code",
   "execution_count": 8,
   "metadata": {},
   "outputs": [],
   "source": [
    "# Check to make sure that both data sets have the same format\n",
    "geo_df = geo_df.set_crs(epsg=4326)  # Set to WGS84\n",
    "counties = counties.to_crs(epsg=4326)"
   ]
  },
  {
   "cell_type": "code",
   "execution_count": 9,
   "metadata": {},
   "outputs": [
    {
     "name": "stderr",
     "output_type": "stream",
     "text": [
      "C:\\Users\\laura\\anaconda3\\envs\\geo_env\\Lib\\site-packages\\IPython\\core\\interactiveshell.py:3466: FutureWarning: The `op` parameter is deprecated and will be removed in a future release. Please use the `predicate` parameter instead.\n",
      "  if await self.run_code(code, result, async_=asy):\n"
     ]
    }
   ],
   "source": [
    "# Perform spatial join\n",
    "result = gpd.sjoin(geo_df, counties, how='left', op='within')\n",
    "result_df = pd.DataFrame(result)\n",
    "result_df.drop(columns='geometry', inplace=True)\n",
    "result_df.to_stata('C:/Users/laura/Desktop/InnovationProject/data/temp/county_matched_cleaned.dta')\n",
    "\n"
   ]
  },
  {
   "cell_type": "code",
   "execution_count": 11,
   "metadata": {},
   "outputs": [
    {
     "name": "stdout",
     "output_type": "stream",
     "text": [
      "        latitude_inventor  longitude_inventor         NAME STATEFP COUNTYFP\n",
      "0               32.572800          -86.722504      Autauga      01      001\n",
      "1               32.572800          -86.722504      Autauga      01      001\n",
      "2               34.750900          -92.498497      Pulaski      05      119\n",
      "3               34.750900          -92.498497      Pulaski      05      119\n",
      "4               34.168499         -111.668999         Gila      04      007\n",
      "...                   ...                 ...          ...     ...      ...\n",
      "498059          35.275101          -80.695602  Mecklenburg      37      119\n",
      "498060          38.970200         -119.888000      Douglas      32      005\n",
      "498061          35.267799          -90.555000        Cross      05      037\n",
      "498062          37.184601          -75.958298  Northampton      51      131\n",
      "498063          37.184601          -75.958298  Northampton      51      131\n",
      "\n",
      "[498064 rows x 5 columns]\n"
     ]
    }
   ],
   "source": [
    "print(result_df[['latitude_inventor', 'longitude_inventor', 'NAME', 'STATEFP', 'COUNTYFP']])"
   ]
  },
  {
   "cell_type": "code",
   "execution_count": null,
   "metadata": {},
   "outputs": [],
   "source": []
  }
 ],
 "metadata": {
  "kernelspec": {
   "display_name": "Python 3 (ipykernel)",
   "language": "python",
   "name": "python3"
  },
  "language_info": {
   "codemirror_mode": {
    "name": "ipython",
    "version": 3
   },
   "file_extension": ".py",
   "mimetype": "text/x-python",
   "name": "python",
   "nbconvert_exporter": "python",
   "pygments_lexer": "ipython3",
   "version": "3.11.6"
  }
 },
 "nbformat": 4,
 "nbformat_minor": 4
}
