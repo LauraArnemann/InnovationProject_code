{
 "cells": [
  {
   "cell_type": "code",
   "execution_count": 1,
   "metadata": {},
   "outputs": [],
   "source": [
    "#pip install geopy\n",
    "#pip install geopandas\n",
    "#pip install shapely\n",
    "#pip install fiona\n",
    "#pip install six\n",
    "#pip install pyproj\n"
   ]
  },
  {
   "cell_type": "code",
   "execution_count": 1,
   "metadata": {},
   "outputs": [],
   "source": [
    "import geopandas as gpd\n",
    "from geopandas.tools import geocode\n",
    "import pandas as pd\n",
    "import numpy as np\n",
    "from shapely.geometry import Point\n",
    "from geopy.geocoders import Nominatim"
   ]
  },
  {
   "cell_type": "code",
   "execution_count": 3,
   "metadata": {},
   "outputs": [],
   "source": [
    "\n",
    "# Initialize the Nominatim geocoder\n",
    "#geolocator = Nominatim(user_agent=\"myGeocoder\")\n",
    "\n",
    "# Function to geocode an address and return a tuple of (latitude, longitude)\n",
    "#def geocode_address(address):\n",
    "#    try:\n",
    "#        location = geolocator.geocode(address)\n",
    "#        if location is not None:\n",
    "#            return location.latitude, location.longitude\n",
    "#        else:\n",
    "#            return None\n",
    "#    except Exception as e:\n",
    "        #print(f\"Error geocoding address: {address}\\nError message: {str(e)}\")\n",
    "#        return None\n",
    "\n",
    "# Apply the geocode_address function to each row in the DataFrame\n",
    "#def add_geocodes_to_dataframe(df):\n",
    "#    df['Coordinates'] = df['hqaddress_python'].apply(geocode_address)\n",
    "#    df[['Latitude', 'Longitude']] = pd.DataFrame(df['Coordinates'].tolist(), index=df.index)\n",
    "#    return df\n",
    "\n",
    "# Add geocoded coordinates to the DataFrame\n",
    "#df = add_geocodes_to_dataframe(df6\n",
    "\n",
    "# Print the updated DataFrame\n",
    "#print(df)\n",
    "#df.to_stata('C:/Users/laura/Desktop/InnovationProject/data/addresses_geocoded4.dta')"
   ]
  },
  {
   "cell_type": "code",
   "execution_count": 2,
   "metadata": {},
   "outputs": [],
   "source": [
    "# This works well, but I will try out a different service for now\n",
    "df = pd.read_stata('C:/Users/laura/Desktop/InnovationProject/data/compustat_addresses18.dta',index_col='gvkey')\n",
    "geo = geocode(df['hq_address_compustat'], provider='arcgis', user_agent='XY', timeout=100)\n",
    "df['lat']=geo.geometry.x\n",
    "df['lon']=geo.geometry.y\n",
    "df.to_stata('C:/Users/laura/Desktop/InnovationProject/data/geocoding_done/compustat/compustat_geocoded_18.dta')"
   ]
  },
  {
   "cell_type": "code",
   "execution_count": null,
   "metadata": {},
   "outputs": [],
   "source": []
  }
 ],
 "metadata": {
  "kernelspec": {
   "display_name": "Python 3",
   "language": "python",
   "name": "python3"
  },
  "language_info": {
   "codemirror_mode": {
    "name": "ipython",
    "version": 3
   },
   "file_extension": ".py",
   "mimetype": "text/x-python",
   "name": "python",
   "nbconvert_exporter": "python",
   "pygments_lexer": "ipython3",
   "version": "3.8.5"
  }
 },
 "nbformat": 4,
 "nbformat_minor": 4
}
